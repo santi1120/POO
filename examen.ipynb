{
  "nbformat": 4,
  "nbformat_minor": 0,
  "metadata": {
    "colab": {
      "provenance": []
    },
    "kernelspec": {
      "name": "python3",
      "display_name": "Python 3"
    },
    "language_info": {
      "name": "python"
    }
  },
  "cells": [
    {
      "cell_type": "code",
      "source": [
        " class formulas():\n",
        "\n",
        "    def _init_(self):\n",
        "        print(\"creamos las clases\")\n",
        "\n",
        "    def triangulo(self):\n",
        "        print(\"area y perimetro de triangulos equilateros\")\n",
        "\n",
        "    def MatrizCuadrada(self):\n",
        "        print(\"lista de 16 numeros que pasan a una matriz 4x4\")\n",
        "\n",
        "    def det(self):\n",
        "      print(\"sacar el determinante de la matriz 4x4\" )"
      ],
      "metadata": {
        "id": "iaLtna6HqIgR"
      },
      "execution_count": 98,
      "outputs": []
    },
    {
      "cell_type": "code",
      "source": [
        "class triangulo(formulas):\n",
        "\n",
        "    def __init__(self, lado):\n",
        "        super().__init__(lado)\n",
        "\n",
        "    def calcular_area(self):\n",
        "        altura = (math.sqrt(3) / 2) * self.lado #formula para sacar altura\n",
        "        area = (self.lado * altura) / 2 #formula para sacar area\n",
        "        return area\n",
        "\n",
        "    def calcular_perimetro(self):\n",
        "        perimetro = 3 * self.lado #formula para sacar perimetro\n",
        "        return perimetro\n",
        "\n",
        "\n",
        "\n",
        "# Solicitar lado del triángulo\n",
        "lado_usuario = float(input(\"Ingresa la longitud del lado del triángulo equilátero: \"))\n",
        "triangulo = TrianguloEquilatero(lado_usuario)\n",
        "\n",
        "# Calcular y mostrar resultados\n",
        "area_resultante = triangulo.calcular_area()\n",
        "perimetro_resultante = triangulo.calcular_perimetro()\n",
        "\n",
        "print(f\"Área del triángulo equilátero: {area_resultante}\")  #imprimir el resultado\n",
        "print(f\"Perímetro del triángulo equilátero: {perimetro_resultante}\")\n",
        ""
      ],
      "metadata": {
        "colab": {
          "base_uri": "https://localhost:8080/"
        },
        "id": "kXgPxA11weqy",
        "outputId": "7667eb98-20df-483c-8cc0-2bec6c067efb"
      },
      "execution_count": 101,
      "outputs": [
        {
          "output_type": "stream",
          "name": "stdout",
          "text": [
            "Ingresa la longitud del lado del triángulo equilátero: 5\n",
            "Área del triángulo equilátero: 10.825317547305481\n",
            "Perímetro del triángulo equilátero: 15.0\n"
          ]
        }
      ]
    },
    {
      "cell_type": "code",
      "source": [
        "class MatrizCuadrada(formulas):\n",
        "\n",
        "    def __init__(self, elementos):\n",
        "        self.elementos = elementos\n",
        "\n",
        "    def imprimir_matriz(self):\n",
        "        if len(self.elementos) != 16: #definir que son 16 elementos en la lista\n",
        "            print(\"La lista debe contener exactamente 16 elementos.\")\n",
        "            return\n",
        "\n",
        "        matriz = [self.elementos[i:i+4] for i in range(0, 16, 4)] #definir que es una matriz de 4x4\n",
        "\n",
        "        for fila in matriz:\n",
        "            print(fila)\n",
        "\n",
        "# pedir 16 elementos\n",
        "elementos_usuario = []\n",
        "for _ in range(16):\n",
        "    elemento = float(input(f\"Ingresa el elemento {_ + 1}: \")) #sirve para que al pedirme elementos sume 1 a la lista\n",
        "    elementos_usuario.append(elemento)\n",
        "\n",
        "# mostrar matriz\n",
        "matriz_objeto = MatrizCuadrada(elementos_usuario) # sirve para que le de la forma de matriz a la lista que le di anteriormente\n",
        "matriz_objeto.imprimir_matriz()"
      ],
      "metadata": {
        "colab": {
          "base_uri": "https://localhost:8080/"
        },
        "id": "lYI0_MUrz3ZN",
        "outputId": "64517b7a-8e09-454e-f72d-d49237b45f5c"
      },
      "execution_count": 103,
      "outputs": [
        {
          "output_type": "stream",
          "name": "stdout",
          "text": [
            "Ingresa el elemento 1: 1\n",
            "Ingresa el elemento 2: 2\n",
            "Ingresa el elemento 3: 3\n",
            "Ingresa el elemento 4: 4\n",
            "Ingresa el elemento 5: 5\n",
            "Ingresa el elemento 6: 6\n",
            "Ingresa el elemento 7: 7\n",
            "Ingresa el elemento 8: 8\n",
            "Ingresa el elemento 9: 9\n",
            "Ingresa el elemento 10: 10\n",
            "Ingresa el elemento 11: 11\n",
            "Ingresa el elemento 12: 12\n",
            "Ingresa el elemento 13: 1\n",
            "Ingresa el elemento 14: 14\n",
            "Ingresa el elemento 15: 15\n",
            "Ingresa el elemento 16: 16\n",
            "[1.0, 2.0, 3.0, 4.0]\n",
            "[5.0, 6.0, 7.0, 8.0]\n",
            "[9.0, 10.0, 11.0, 12.0]\n",
            "[1.0, 14.0, 15.0, 16.0]\n"
          ]
        }
      ]
    },
    {
      "cell_type": "code",
      "source": [
        "import numpy as np #traer recursos matematicos desde internet\n",
        "\n",
        "class det(formulas):\n",
        "  def __init__(self):\n",
        "    pass\n",
        "\n",
        "  def determinante(self, MatrizCuadrada):\n",
        "    return np.linalg.det(MatrizCuadrada) #formula de determinante\n",
        "\n",
        "    class Calculadordet(formulas):\n",
        "      def __init__(self):\n",
        "        super().__init__()\n",
        "\n",
        "  print(determinante) #imprimir el determinante\n"
      ],
      "metadata": {
        "colab": {
          "base_uri": "https://localhost:8080/"
        },
        "id": "FiSxKOxY4lt5",
        "outputId": "dd44644b-8c82-41fb-a2af-79351c0ea4fc"
      },
      "execution_count": 104,
      "outputs": [
        {
          "output_type": "stream",
          "name": "stdout",
          "text": [
            "<function det.determinante at 0x789b3c3337f0>\n"
          ]
        }
      ]
    }
  ]
}