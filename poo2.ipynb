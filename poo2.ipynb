{
  "nbformat": 4,
  "nbformat_minor": 0,
  "metadata": {
    "colab": {
      "provenance": []
    },
    "kernelspec": {
      "name": "python3",
      "display_name": "Python 3"
    },
    "language_info": {
      "name": "python"
    }
  },
  "cells": [
    {
      "cell_type": "code",
      "execution_count": null,
      "metadata": {
        "id": "f0TkjHphU09J"
      },
      "outputs": [],
      "source": []
    },
    {
      "cell_type": "markdown",
      "source": [
        "# Listas\n"
      ],
      "metadata": {
        "id": "-z92-AL3U2S0"
      }
    },
    {
      "cell_type": "code",
      "source": [
        "#vamos a generar una lista vacia\n",
        "\n",
        "L=[]\n",
        "\n",
        "range(10)"
      ],
      "metadata": {
        "colab": {
          "base_uri": "https://localhost:8080/"
        },
        "id": "l-1IuC0ZU9Di",
        "outputId": "8385fa5f-fa3b-4b1e-e195-65bb3e51b0cb"
      },
      "execution_count": null,
      "outputs": [
        {
          "output_type": "execute_result",
          "data": {
            "text/plain": [
              "range(0, 10)"
            ]
          },
          "metadata": {},
          "execution_count": 3
        }
      ]
    },
    {
      "cell_type": "code",
      "source": [
        "L=[1,2,3,4]\n",
        "L"
      ],
      "metadata": {
        "colab": {
          "base_uri": "https://localhost:8080/"
        },
        "id": "sPUdUKMYWZVH",
        "outputId": "b6c1903c-a594-4d5e-a928-072eea874e96"
      },
      "execution_count": null,
      "outputs": [
        {
          "output_type": "execute_result",
          "data": {
            "text/plain": [
              "[1, 2, 3, 4]"
            ]
          },
          "metadata": {},
          "execution_count": 4
        }
      ]
    },
    {
      "cell_type": "code",
      "source": [
        "L.append(5)\n",
        "L"
      ],
      "metadata": {
        "colab": {
          "base_uri": "https://localhost:8080/"
        },
        "id": "UROqHKMmWmrX",
        "outputId": "1eca9d11-2e86-4843-a132-f0dc3c1359e2"
      },
      "execution_count": null,
      "outputs": [
        {
          "output_type": "execute_result",
          "data": {
            "text/plain": [
              "[1, 2, 3, 4, 5, 5, 5]"
            ]
          },
          "metadata": {},
          "execution_count": 7
        }
      ]
    },
    {
      "cell_type": "code",
      "source": [
        "for i in range (10):\n",
        "  print(i)"
      ],
      "metadata": {
        "colab": {
          "base_uri": "https://localhost:8080/"
        },
        "id": "OQ-u5J1xVI0K",
        "outputId": "ce466561-cf5c-4618-f289-4c632db0b296"
      },
      "execution_count": null,
      "outputs": [
        {
          "output_type": "stream",
          "name": "stdout",
          "text": [
            "0\n",
            "1\n",
            "2\n",
            "3\n",
            "4\n",
            "5\n",
            "6\n",
            "7\n",
            "8\n",
            "9\n"
          ]
        }
      ]
    },
    {
      "cell_type": "markdown",
      "source": [
        "#Lista de compresion\n"
      ],
      "metadata": {
        "id": "ViwD03wJaVUX"
      }
    },
    {
      "cell_type": "code",
      "source": [
        " type([])\n",
        "\n"
      ],
      "metadata": {
        "id": "DeikRf-kaYnv",
        "colab": {
          "base_uri": "https://localhost:8080/"
        },
        "outputId": "fcfdc6c6-d39d-4a31-f4d3-18d54a94ea82"
      },
      "execution_count": 3,
      "outputs": [
        {
          "output_type": "execute_result",
          "data": {
            "text/plain": [
              "list"
            ]
          },
          "metadata": {},
          "execution_count": 3
        }
      ]
    },
    {
      "cell_type": "code",
      "source": [
        "len([2,4,6,8])\n"
      ],
      "metadata": {
        "colab": {
          "base_uri": "https://localhost:8080/"
        },
        "id": "xyfiInnwb3d1",
        "outputId": "1a9a63b0-9677-475e-cff0-842993c798bc"
      },
      "execution_count": 4,
      "outputs": [
        {
          "output_type": "execute_result",
          "data": {
            "text/plain": [
              "4"
            ]
          },
          "metadata": {},
          "execution_count": 4
        }
      ]
    },
    {
      "cell_type": "code",
      "source": [
        "Pares=[ i for i in range (1, 101) if i%2==0]\n",
        "Pares"
      ],
      "metadata": {
        "colab": {
          "base_uri": "https://localhost:8080/"
        },
        "id": "KDyW3oeAb9Fd",
        "outputId": "a1e26daf-fd92-49d7-f6d8-211a6cbbe05f"
      },
      "execution_count": 6,
      "outputs": [
        {
          "output_type": "execute_result",
          "data": {
            "text/plain": [
              "[2,\n",
              " 4,\n",
              " 6,\n",
              " 8,\n",
              " 10,\n",
              " 12,\n",
              " 14,\n",
              " 16,\n",
              " 18,\n",
              " 20,\n",
              " 22,\n",
              " 24,\n",
              " 26,\n",
              " 28,\n",
              " 30,\n",
              " 32,\n",
              " 34,\n",
              " 36,\n",
              " 38,\n",
              " 40,\n",
              " 42,\n",
              " 44,\n",
              " 46,\n",
              " 48,\n",
              " 50,\n",
              " 52,\n",
              " 54,\n",
              " 56,\n",
              " 58,\n",
              " 60,\n",
              " 62,\n",
              " 64,\n",
              " 66,\n",
              " 68,\n",
              " 70,\n",
              " 72,\n",
              " 74,\n",
              " 76,\n",
              " 78,\n",
              " 80,\n",
              " 82,\n",
              " 84,\n",
              " 86,\n",
              " 88,\n",
              " 90,\n",
              " 92,\n",
              " 94,\n",
              " 96,\n",
              " 98,\n",
              " 100]"
            ]
          },
          "metadata": {},
          "execution_count": 6
        }
      ]
    },
    {
      "cell_type": "code",
      "source": [
        "import numpy as np"
      ],
      "metadata": {
        "id": "9Duzyci3cPxk"
      },
      "execution_count": 9,
      "outputs": []
    },
    {
      "cell_type": "code",
      "source": [
        "np.random.randint(1,10,100)\n"
      ],
      "metadata": {
        "colab": {
          "base_uri": "https://localhost:8080/"
        },
        "id": "H5QwWUgQcdac",
        "outputId": "638d6a60-bfd8-43eb-e4ac-515901a7e3bf"
      },
      "execution_count": 10,
      "outputs": [
        {
          "output_type": "execute_result",
          "data": {
            "text/plain": [
              "array([6, 3, 9, 3, 6, 3, 5, 2, 8, 2, 2, 9, 1, 6, 9, 7, 2, 9, 3, 9, 9, 2,\n",
              "       9, 1, 6, 9, 8, 2, 4, 6, 9, 2, 3, 3, 7, 6, 2, 3, 3, 9, 1, 1, 6, 9,\n",
              "       9, 5, 5, 5, 8, 6, 5, 4, 3, 7, 8, 4, 3, 1, 4, 2, 4, 5, 9, 1, 9, 3,\n",
              "       8, 2, 5, 2, 4, 3, 7, 9, 8, 1, 2, 8, 7, 5, 6, 9, 2, 7, 1, 4, 2, 5,\n",
              "       3, 5, 7, 9, 2, 9, 2, 2, 9, 1, 6, 9])"
            ]
          },
          "metadata": {},
          "execution_count": 10
        }
      ]
    },
    {
      "cell_type": "code",
      "source": [
        "Pares =[i for i in np.random.randint(1,10,100) if i%2==0]\n",
        "Pares"
      ],
      "metadata": {
        "colab": {
          "base_uri": "https://localhost:8080/"
        },
        "id": "HB93U53XcjOl",
        "outputId": "3af1320b-5983-48dc-8c54-5f45d4a2a908"
      },
      "execution_count": 14,
      "outputs": [
        {
          "output_type": "execute_result",
          "data": {
            "text/plain": [
              "[8,\n",
              " 8,\n",
              " 4,\n",
              " 4,\n",
              " 4,\n",
              " 6,\n",
              " 6,\n",
              " 8,\n",
              " 6,\n",
              " 8,\n",
              " 8,\n",
              " 2,\n",
              " 2,\n",
              " 4,\n",
              " 8,\n",
              " 4,\n",
              " 2,\n",
              " 4,\n",
              " 6,\n",
              " 4,\n",
              " 8,\n",
              " 8,\n",
              " 2,\n",
              " 6,\n",
              " 8,\n",
              " 8,\n",
              " 6,\n",
              " 6,\n",
              " 6,\n",
              " 2,\n",
              " 8,\n",
              " 6,\n",
              " 2,\n",
              " 6,\n",
              " 8,\n",
              " 6,\n",
              " 4,\n",
              " 6,\n",
              " 8,\n",
              " 4,\n",
              " 2,\n",
              " 8]"
            ]
          },
          "metadata": {},
          "execution_count": 14
        }
      ]
    }
  ]
}