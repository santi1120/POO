{
  "nbformat": 4,
  "nbformat_minor": 0,
  "metadata": {
    "colab": {
      "provenance": []
    },
    "kernelspec": {
      "name": "python3",
      "display_name": "Python 3"
    },
    "language_info": {
      "name": "python"
    }
  },
  "cells": [
    {
      "cell_type": "markdown",
      "source": [
        "## Ejercicios POO"
      ],
      "metadata": {
        "id": "TgBu7yBbjvVR"
      }
    },
    {
      "cell_type": "markdown",
      "source": [
        "\n",
        "\n",
        "1.   Describe cuáles son las diferencias entre clases y objetos.\n",
        "2. Describe por qué usamos self como primer argumento en los métodos.\n",
        "3. ¿Qué es un constructor? ¿Y por qué lo usamos?\n",
        "4. Describir las diferencias entre los atributos de clase y de instancia.\n",
        "5. La siguiente es una definición de la clase Punto que toma las coordenadas x, y. Agregue un método plot_point que trace la posición del punto.\n",
        "6. Documenta y prueba con algunos puntos el siguiente código:\n",
        "\n",
        "```\n",
        "#\n",
        "import matplotlib.pyplot as plt\n",
        "\n",
        "class Punto():\n",
        "    def __init__(self, x, y):\n",
        "        self.x = x\n",
        "        self.y = y\n",
        "\n",
        "    def plot(self):\n",
        "        plt.scatter(self.x, self.y, color='red', marker='o')\n",
        "        plt.xlabel('X-axis')\n",
        "        plt.ylabel('Y-axis')\n",
        "        plt.title('Gráfica del punto')\n",
        "        plt.grid(True)\n",
        "        plt.show()\n",
        "```\n",
        "\n",
        "7. Cree una clase para modelar algún objeto del mundo real y cree una nueva clase para heredar de él. Un ejemplo puede ser el siguiente. Deberías usar un ejemplo diferente y usar tantas cosas que aprendimos como sea posible.\n",
        "\n",
        "\n",
        "\n",
        "```\n",
        "# class Carro():\n",
        "    def __init__(self, marca, color):\n",
        "        self.marca = marca\n",
        "        self.color = color\n",
        "    \n",
        "    def encender(self):\n",
        "        print('!Listo para conducir!')\n",
        "        \n",
        "class Camioneta(Carro):\n",
        "    def __init__(self, marca, color, tamaño):\n",
        "        super().__init__(marca, color)\n",
        "        self.tamaño = tamaño\n",
        "        \n",
        "    def encender(self, llave):\n",
        "        if llave == 'llave_camioneta':\n",
        "            print('¡Listo para conducir!')\n",
        "        else:\n",
        "            print('La llave no es la correcta')\n",
        "            \n",
        "    def apagar(self, apagar):\n",
        "        if apagar:\n",
        "            print('¡El motor está apagado!')\n",
        "        else:\n",
        "            print('¡Sigo conduciendo!')\n",
        "\n",
        "```\n",
        "\n",
        "\n",
        "\n"
      ],
      "metadata": {
        "id": "OlqRnXzXhqwb"
      }
    },
    {
      "cell_type": "code",
      "source": [],
      "metadata": {
        "id": "7skCcYA0icoq"
      },
      "execution_count": null,
      "outputs": []
    },
    {
      "cell_type": "markdown",
      "source": [
        "1) Una clase es una plantilla para crear objetos. Define los atributos y métodos que tendrán los objetos, pero no es un objeto en sí mismo.\n",
        "Un objeto es una instancia específica de una clase, que contiene datos reales. Los objetos se crean a partir de clases.\n",
        "\n",
        "2)Usamos self como el primer argumento en los métodos de Python para hacer referencia al objeto instanciado. Esto permite acceder y modificar los atributos y métodos de ese objeto específico desde dentro de sus métodos.\n",
        "\n",
        "3)Un constructor es un método especial que se ejecuta cuando se crea una nueva instancia de una clase. Se utiliza para inicializar los atributos del nuevo objeto. En Python el constructor se nombra init.\n",
        "\n",
        "4)Los atributos de clase son compartidos por todas las instancias de la clase. En cambio, los atributos de instancia pertenecen solo a esa instancia en particular.\n",
        "\n",
        "5) class Punto:\n",
        "    def __init__(self, x, y):\n",
        "        self.x = x\n",
        "        self.y = y\n",
        "    \n",
        "    def plot_point(self):\n",
        "        print(f\"Plot point at coordinates ({self.x}, {self.y})\")\n",
        "\n",
        "        "
      ],
      "metadata": {
        "id": "CBE2mUfLwqmT"
      }
    },
    {
      "cell_type": "markdown",
      "source": [
        "pregunta 6"
      ],
      "metadata": {
        "id": "8ra6qBdRx7wq"
      }
    },
    {
      "cell_type": "code",
      "source": [
        "\n",
        "import matplotlib.pyplot as plt\n",
        "\n",
        "class Punto():\n",
        "    def __init__(self, x, y):\n",
        "        self.x = x\n",
        "        self.y = y\n",
        "\n",
        "    def plot(self):\n",
        "        plt.scatter(self.x, self.y, color='red', marker='o')\n",
        "        plt.xlabel('X-axis')\n",
        "        plt.ylabel('Y-axis')\n",
        "        plt.title('Gráfica del punto')\n",
        "        plt.grid(True)\n",
        "        plt.show()"
      ],
      "metadata": {
        "id": "OKVlHH3nx0-k"
      },
      "execution_count": 2,
      "outputs": []
    },
    {
      "cell_type": "code",
      "source": [
        "punto = Punto(7,7)\n",
        "punto = Punto(9,7)\n",
        " #construimos un  punto"
      ],
      "metadata": {
        "id": "rDBAMQ2CyQHC"
      },
      "execution_count": 14,
      "outputs": []
    },
    {
      "cell_type": "code",
      "source": [],
      "metadata": {
        "id": "PaFBGw3D0dys"
      },
      "execution_count": 12,
      "outputs": []
    },
    {
      "cell_type": "code",
      "source": [
        "punto.plot()"
      ],
      "metadata": {
        "colab": {
          "base_uri": "https://localhost:8080/",
          "height": 472
        },
        "id": "t-UqEz6ny50Z",
        "outputId": "d0b4db4d-c79a-470d-cf8a-ae0c7809d524"
      },
      "execution_count": 15,
      "outputs": [
        {
          "output_type": "display_data",
          "data": {
            "text/plain": [
              "<Figure size 640x480 with 1 Axes>"
            ],
            "image/png": "[encoded data removed]"
          },
          "metadata": {}
        }
      ]
    },
    {
      "cell_type": "code",
      "source": [],
      "metadata": {
        "id": "nwDwilFhzAyX"
      },
      "execution_count": null,
      "outputs": []
    },
    {
      "cell_type": "markdown",
      "source": [
        "pregunta 7"
      ],
      "metadata": {
        "id": "3Lm8b37QzQ71"
      }
    },
    {
      "cell_type": "code",
      "source": [
        "class Electrodomestico: #Creamos la clase\n",
        "    def __init__(self, marca, voltage):#dos  elementos, init es el constructor\n",
        "        self.marca = marca\n",
        "        self.voltage = voltage\n",
        "\n",
        "    def enchufar(self):\n",
        "        print(f\"El {self.marca} está enchufado.\")# metodos para mostrar los elementos\n",
        "\n",
        "    def desenchufar(self):\n",
        "        print(f\"El {self.marca} está desenchufado.\")\n",
        "\n",
        "class Television(Electrodomestico):  # se define la clase definicion\n",
        "    def __init__(self, marca, voltage, pulgadas):\n",
        "        super().__init__(marca, voltage)\n",
        "        self.pulgadas = pulgadas\n",
        "\n",
        "    def encender(self):\n",
        "        print(f\"La TV {self.marca} de {self.pulgadas} pulgadas se encendió.\")\n",
        "\n",
        "    def apagar(self):\n",
        "        print(f\"La TV {self.marca} de {self.pulgadas} pulgadas se apagó.\")\n",
        "\n",
        "tv = Television(\"Samsung\", 120, 55)\n",
        "tv.enchufar()\n",
        "tv.encender()\n",
        "tv.apagar()\n",
        "tv.desenchufar()"
      ],
      "metadata": {
        "colab": {
          "base_uri": "https://localhost:8080/"
        },
        "id": "uzwGEGSSzvvh",
        "outputId": "60ca8803-e2b9-46f7-dbbd-8f94f8619512"
      },
      "execution_count": 5,
      "outputs": [
        {
          "output_type": "stream",
          "name": "stdout",
          "text": [
            "El Samsung está enchufado.\n",
            "La TV Samsung de 55 pulgadas se encendió.\n",
            "La TV Samsung de 55 pulgadas se apagó.\n",
            "El Samsung está desenchufado.\n"
          ]
        }
      ]
    }
  ]
}