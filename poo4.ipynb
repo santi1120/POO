{
  "nbformat": 4,
  "nbformat_minor": 0,
  "metadata": {
    "colab": {
      "provenance": []
    },
    "kernelspec": {
      "name": "python3",
      "display_name": "Python 3"
    },
    "language_info": {
      "name": "python"
    }
  },
  "cells": [
    {
      "cell_type": "code",
      "source": [
        "def Area (b,l):\n",
        "  x = (b*l)/2\n",
        "  return x"
      ],
      "metadata": {
        "id": "NuHimUwdYgKk"
      },
      "execution_count": 8,
      "outputs": []
    },
    {
      "cell_type": "code",
      "source": [
        "Area (1,3)"
      ],
      "metadata": {
        "colab": {
          "base_uri": "https://localhost:8080/"
        },
        "id": "D4xv9lXgYkNa",
        "outputId": "aa1ab59a-0797-4fe3-924b-0b3857f88172"
      },
      "execution_count": 9,
      "outputs": [
        {
          "output_type": "execute_result",
          "data": {
            "text/plain": [
              "1.5"
            ]
          },
          "metadata": {},
          "execution_count": 9
        }
      ]
    },
    {
      "cell_type": "code",
      "source": [
        "def Perimetro (b,l):\n",
        "  p=(b*2)+l\n",
        "  return p"
      ],
      "metadata": {
        "id": "nUCMEnm6bMVz"
      },
      "execution_count": 29,
      "outputs": []
    },
    {
      "cell_type": "code",
      "source": [
        "Perimetro (2,8)"
      ],
      "metadata": {
        "colab": {
          "base_uri": "https://localhost:8080/"
        },
        "id": "gtyv0HTjbgEB",
        "outputId": "c788254c-8112-4468-fdc2-f6950e811832"
      },
      "execution_count": 30,
      "outputs": [
        {
          "output_type": "execute_result",
          "data": {
            "text/plain": [
              "12"
            ]
          },
          "metadata": {},
          "execution_count": 30
        }
      ]
    },
    {
      "cell_type": "code",
      "source": [
        "def numpar(x):\n",
        "  num=x%2\n",
        "  return num"
      ],
      "metadata": {
        "id": "AzpeayCvcRgd"
      },
      "execution_count": 31,
      "outputs": []
    },
    {
      "cell_type": "code",
      "source": [
        "numpar (9)\n"
      ],
      "metadata": {
        "colab": {
          "base_uri": "https://localhost:8080/"
        },
        "id": "C1VQDTnYcwXv",
        "outputId": "2a124136-af28-4c7d-acdf-fb42a30d45ad"
      },
      "execution_count": 37,
      "outputs": [
        {
          "output_type": "execute_result",
          "data": {
            "text/plain": [
              "1"
            ]
          },
          "metadata": {},
          "execution_count": 37
        }
      ]
    },
    {
      "cell_type": "code",
      "source": [
        "x=455776\n",
        "\n",
        "if numpar(x)==0:\n",
        "  print(\"par\")\n",
        "else:\n",
        "  print (\"impar\")"
      ],
      "metadata": {
        "colab": {
          "base_uri": "https://localhost:8080/"
        },
        "id": "5diKOhcPeC3X",
        "outputId": "b0d0fbcd-3959-4833-ca5d-d50ad882cea2"
      },
      "execution_count": 42,
      "outputs": [
        {
          "output_type": "stream",
          "name": "stdout",
          "text": [
            "par\n"
          ]
        }
      ]
    },
    {
      "cell_type": "code",
      "source": [
        "def es_perfecto (n):\n",
        "\n",
        "  divisores =[1]\n",
        "  for i in range (2, int(n**0.5)+1):\n",
        "    if n%i ==0:\n",
        "      divisores.append(i)\n",
        "      divisores.append(n//i)\n",
        "      return sum(divisores)==n\n",
        "\n",
        "numero = 28\n",
        "\n",
        "if es_perfecto(numero):\n",
        "  print(f\"El numero {numero} es perfecto\")\n",
        "else:\n",
        "  print(f\"El numero {numero} es imperfecto\")\n"
      ],
      "metadata": {
        "colab": {
          "base_uri": "https://localhost:8080/"
        },
        "id": "szG2aJqzfStJ",
        "outputId": "79a385ce-5fd0-4bf1-80da-ff6d79f68bbe"
      },
      "execution_count": 45,
      "outputs": [
        {
          "output_type": "stream",
          "name": "stdout",
          "text": [
            "El numero 28 es imperfecto\n"
          ]
        }
      ]
    }
  ]
}