{
  "nbformat": 4,
  "nbformat_minor": 0,
  "metadata": {
    "colab": {
      "provenance": []
    },
    "kernelspec": {
      "name": "python3",
      "display_name": "Python 3"
    },
    "language_info": {
      "name": "python"
    }
  },
  "cells": [
    {
      "cell_type": "code",
      "execution_count": 20,
      "metadata": {
        "id": "gID5-4iDmtP9"
      },
      "outputs": [],
      "source": [
        "class Santiago ():\n",
        "\n",
        "\n",
        "  def __init__ (self):\n",
        "    print(\"Mi vida\")\n",
        "\n",
        "  def adivina(self):\n",
        "      print(\"Hola, soy estudiante\")\n",
        "\n",
        "  def carro (self):\n",
        "      print(\"CR-V\")\n",
        "\n",
        "  def edad(self):\n",
        "     print(\"19\")"
      ]
    },
    {
      "cell_type": "code",
      "source": [
        "santi = Santiago()"
      ],
      "metadata": {
        "colab": {
          "base_uri": "https://localhost:8080/"
        },
        "id": "mBYep-5pnVlN",
        "outputId": "f8e635e9-1f8b-4197-fb24-cb8405a209a6"
      },
      "execution_count": 21,
      "outputs": [
        {
          "output_type": "stream",
          "name": "stdout",
          "text": [
            "Mi vida\n"
          ]
        }
      ]
    },
    {
      "cell_type": "code",
      "source": [
        "santi.edad()"
      ],
      "metadata": {
        "colab": {
          "base_uri": "https://localhost:8080/"
        },
        "id": "Z-Mh53E4nejZ",
        "outputId": "0256d77f-511e-42bd-e901-9463348b81e6"
      },
      "execution_count": 17,
      "outputs": [
        {
          "output_type": "stream",
          "name": "stdout",
          "text": [
            "19\n"
          ]
        }
      ]
    },
    {
      "cell_type": "code",
      "source": [
        "santi.adivina()"
      ],
      "metadata": {
        "colab": {
          "base_uri": "https://localhost:8080/"
        },
        "id": "aJIYY2NAoFLy",
        "outputId": "6a3c5e9a-d9de-41cd-92e3-22b3970e840b"
      },
      "execution_count": 24,
      "outputs": [
        {
          "output_type": "stream",
          "name": "stdout",
          "text": [
            "Hola, soy estudiante\n"
          ]
        }
      ]
    },
    {
      "cell_type": "code",
      "source": [
        "santi.carro()"
      ],
      "metadata": {
        "colab": {
          "base_uri": "https://localhost:8080/"
        },
        "id": "-do7643HoIKJ",
        "outputId": "96fc81e6-bf3d-4ef0-ded4-a32a9fb69c9a"
      },
      "execution_count": 25,
      "outputs": [
        {
          "output_type": "stream",
          "name": "stdout",
          "text": [
            "CR-V\n"
          ]
        }
      ]
    },
    {
      "cell_type": "code",
      "source": [
        "class Escuela (Santiago):\n",
        "\n",
        "\n",
        "  def __init__ (self):\n",
        "    Santiago.__init__(self)\n",
        "    print(\"datos curiosos\")\n",
        "\n",
        "  def apodo(self):\n",
        "      print(\"Casper\")\n",
        "\n",
        "  def idioma(self):\n",
        "        print(\"Español, ingles y frances\")\n",
        "\n",
        "  def adivina(self):\n",
        "     print(\"Up\")"
      ],
      "metadata": {
        "id": "1pxi7IKDot8I"
      },
      "execution_count": 32,
      "outputs": []
    },
    {
      "cell_type": "code",
      "source": [
        "datos = Escuela()\n"
      ],
      "metadata": {
        "colab": {
          "base_uri": "https://localhost:8080/"
        },
        "id": "j_AcrogKpMLD",
        "outputId": "2624376e-d92e-44ae-b701-200a98f92e0e"
      },
      "execution_count": 33,
      "outputs": [
        {
          "output_type": "stream",
          "name": "stdout",
          "text": [
            "Mi vida\n",
            "datos curiosos\n"
          ]
        }
      ]
    },
    {
      "cell_type": "code",
      "source": [
        "datos.apodo()"
      ],
      "metadata": {
        "colab": {
          "base_uri": "https://localhost:8080/"
        },
        "id": "nbSC5tnMpmW2",
        "outputId": "1025024d-5c05-4d6b-e170-96fd95dc6597"
      },
      "execution_count": 30,
      "outputs": [
        {
          "output_type": "stream",
          "name": "stdout",
          "text": [
            "Casper\n"
          ]
        }
      ]
    },
    {
      "cell_type": "code",
      "source": [
        "datos.adivina()"
      ],
      "metadata": {
        "colab": {
          "base_uri": "https://localhost:8080/"
        },
        "id": "OLp77QpFpqa-",
        "outputId": "c8e12678-1299-4674-9607-a433d5045b2e"
      },
      "execution_count": 34,
      "outputs": [
        {
          "output_type": "stream",
          "name": "stdout",
          "text": [
            "Up\n"
          ]
        }
      ]
    },
    {
      "cell_type": "code",
      "source": [
        "datos.idioma()"
      ],
      "metadata": {
        "colab": {
          "base_uri": "https://localhost:8080/"
        },
        "id": "HYh4xBIcp2b_",
        "outputId": "1353d38a-829c-4ff8-eb74-13dfa96112ad"
      },
      "execution_count": 35,
      "outputs": [
        {
          "output_type": "stream",
          "name": "stdout",
          "text": [
            "Español, ingles y frances\n"
          ]
        }
      ]
    }
  ]
}