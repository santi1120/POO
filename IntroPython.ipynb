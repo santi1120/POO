{
  "nbformat": 4,
  "nbformat_minor": 0,
  "metadata": {
    "colab": {
      "provenance": []
    },
    "kernelspec": {
      "name": "python3",
      "display_name": "Python 3"
    },
    "language_info": {
      "name": "python"
    }
  },
  "cells": [
    {
      "cell_type": "markdown",
      "source": [
        "# Primeros objetos\n",
        "\n",
        "\n",
        "1.   Objetos.\n",
        "2.   Listas.\n",
        "3.   Conjuntos.\n",
        "\n",
        "\n",
        "\n",
        "\n",
        "\n",
        "\n"
      ],
      "metadata": {
        "id": "9IwRwz2AjUcS"
      }
    },
    {
      "cell_type": "markdown",
      "source": [
        "En Python se pueden realizar operaciones sobre objetos. Ademas, es util para resolver un sistema de ecaciones lineales.\n",
        "\n",
        "$$\n",
        "f(x,y)=\\begin{cases}\n",
        "x+2y &= 3\\\\\n",
        "2x+4y &= 6\n",
        "\\end{cases}\n",
        "$$"
      ],
      "metadata": {
        "id": "_DDAyrxsliHQ"
      }
    },
    {
      "cell_type": "markdown",
      "source": [
        "## Primeros objetos.\n",
        "\n",
        "\n",
        "*   Numeros enteros\n",
        "*   Numeros flotantes\n",
        "\n",
        "\n",
        "\n",
        "\n",
        "\n"
      ],
      "metadata": {
        "id": "YTX6gVVAr5SI"
      }
    },
    {
      "cell_type": "code",
      "source": [
        "print(\"Hola Mundo!\")\n"
      ],
      "metadata": {
        "id": "QT4jJ6MYqm3i"
      },
      "execution_count": null,
      "outputs": []
    },
    {
      "cell_type": "code",
      "source": [
        "# Crear variables\n",
        "x = 3\n",
        "y = 5"
      ],
      "metadata": {
        "id": "qlzxyq9Ms2mH"
      },
      "execution_count": null,
      "outputs": []
    },
    {
      "cell_type": "code",
      "source": [
        "print(x+y)\n",
        "print(x-y)\n",
        "print(x*y)\n",
        "print(x**y)\n",
        "print(x/y)\n",
        "print(x//y)\n",
        "print(x%y)"
      ],
      "metadata": {
        "colab": {
          "base_uri": "https://localhost:8080/"
        },
        "id": "SH3A5kWbtJ2R",
        "outputId": "c61b8732-f529-43c1-d054-034ed1e6c51c"
      },
      "execution_count": null,
      "outputs": [
        {
          "output_type": "stream",
          "name": "stdout",
          "text": [
            "8\n",
            "-2\n",
            "15\n",
            "243\n",
            "0.6\n",
            "0\n",
            "3\n"
          ]
        }
      ]
    },
    {
      "cell_type": "code",
      "source": [
        "type(x+y)"
      ],
      "metadata": {
        "colab": {
          "base_uri": "https://localhost:8080/"
        },
        "id": "96UBpP8uwHnz",
        "outputId": "5ddb2dc7-fcf7-44db-b2e6-68751794c80d"
      },
      "execution_count": null,
      "outputs": [
        {
          "output_type": "execute_result",
          "data": {
            "text/plain": [
              "int"
            ]
          },
          "metadata": {},
          "execution_count": 8
        }
      ]
    },
    {
      "cell_type": "code",
      "source": [
        "type(x/y)"
      ],
      "metadata": {
        "colab": {
          "base_uri": "https://localhost:8080/"
        },
        "id": "gxdUhzBzwP4Z",
        "outputId": "10a40f58-dcc6-4498-c0d6-fc3217600def"
      },
      "execution_count": null,
      "outputs": [
        {
          "output_type": "execute_result",
          "data": {
            "text/plain": [
              "float"
            ]
          },
          "metadata": {},
          "execution_count": 9
        }
      ]
    }
  ]
}