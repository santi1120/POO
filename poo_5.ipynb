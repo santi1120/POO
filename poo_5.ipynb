{
  "nbformat": 4,
  "nbformat_minor": 0,
  "metadata": {
    "colab": {
      "provenance": []
    },
    "kernelspec": {
      "name": "python3",
      "display_name": "Python 3"
    },
    "language_info": {
      "name": "python"
    }
  },
  "cells": [
    {
      "cell_type": "code",
      "execution_count": null,
      "metadata": {
        "id": "62RFsAWpY7Cs"
      },
      "outputs": [],
      "source": []
    },
    {
      "cell_type": "code",
      "source": [
        "class Mascota ():\n",
        "\n",
        "\n",
        "  def __init__ (self):\n",
        "    print(\"Creando una clase madre\")\n",
        "\n",
        "  def adivina(self):\n",
        "      print(\"Hola, soy un perro\")\n",
        "\n",
        "  def habla(self):\n",
        "        print(\"ladro\")\n",
        "\n",
        "  def sientate(self):\n",
        "     print(\"me siento\")\n"
      ],
      "metadata": {
        "id": "jFctVm56ar7D"
      },
      "execution_count": 28,
      "outputs": []
    },
    {
      "cell_type": "code",
      "source": [
        "mascota = Mascota()\n"
      ],
      "metadata": {
        "colab": {
          "base_uri": "https://localhost:8080/"
        },
        "id": "q8KU06PjeGXU",
        "outputId": "3322463d-5457-40a1-b4ab-e5ad67539ef4"
      },
      "execution_count": 29,
      "outputs": [
        {
          "output_type": "stream",
          "name": "stdout",
          "text": [
            "Creando una clase madre\n"
          ]
        }
      ]
    },
    {
      "cell_type": "code",
      "source": [
        "mascota.adivina()"
      ],
      "metadata": {
        "colab": {
          "base_uri": "https://localhost:8080/"
        },
        "id": "y6dzuI-Jfnko",
        "outputId": "ad36a6c9-e14c-49f3-a4c9-2fc5b410e1c2"
      },
      "execution_count": 47,
      "outputs": [
        {
          "output_type": "stream",
          "name": "stdout",
          "text": [
            "Hola, soy un perro\n"
          ]
        }
      ]
    },
    {
      "cell_type": "code",
      "source": [
        "mascota.habla()"
      ],
      "metadata": {
        "colab": {
          "base_uri": "https://localhost:8080/"
        },
        "id": "wumpQ853frYY",
        "outputId": "4f1cb3ea-3be6-40a1-831a-415d03a91274"
      },
      "execution_count": 31,
      "outputs": [
        {
          "output_type": "stream",
          "name": "stdout",
          "text": [
            "ladro\n"
          ]
        }
      ]
    },
    {
      "cell_type": "code",
      "source": [
        "mascota.sientate()"
      ],
      "metadata": {
        "colab": {
          "base_uri": "https://localhost:8080/"
        },
        "id": "YCHGg2PAggVt",
        "outputId": "d3d1a199-5b7c-4473-9284-abbeb37bb091"
      },
      "execution_count": 32,
      "outputs": [
        {
          "output_type": "stream",
          "name": "stdout",
          "text": [
            "me siento\n"
          ]
        }
      ]
    },
    {
      "cell_type": "code",
      "source": [
        "class Perro (Mascota):\n",
        "\n",
        "\n",
        "  def __init__ (self):\n",
        "    Mascota.__init__(self)\n",
        "    print(\"Creando una clase heredada\")\n",
        "\n",
        "  def nombre(self):\n",
        "      print(\"Luna\")\n",
        "\n",
        "  def idioma(self):\n",
        "        print(\"WUAF\")\n",
        "\n",
        "  def adivina(self):\n",
        "     print(\"labrador\")"
      ],
      "metadata": {
        "id": "c32x2kPOiUiZ"
      },
      "execution_count": 43,
      "outputs": []
    },
    {
      "cell_type": "code",
      "source": [
        "perro= Perro()"
      ],
      "metadata": {
        "colab": {
          "base_uri": "https://localhost:8080/"
        },
        "id": "BE0kilxyjSYM",
        "outputId": "11f4d4fa-9bdf-468d-851f-2e43b5f758fb"
      },
      "execution_count": 44,
      "outputs": [
        {
          "output_type": "stream",
          "name": "stdout",
          "text": [
            "Creando una clase madre\n",
            "Creando una clase heredada\n"
          ]
        }
      ]
    },
    {
      "cell_type": "code",
      "source": [
        "perro.nombre()"
      ],
      "metadata": {
        "colab": {
          "base_uri": "https://localhost:8080/"
        },
        "id": "vkKuddTDjWBw",
        "outputId": "9af33df7-8534-40d2-c9ff-5f8aedc2dda2"
      },
      "execution_count": 45,
      "outputs": [
        {
          "output_type": "stream",
          "name": "stdout",
          "text": [
            "Luna\n"
          ]
        }
      ]
    },
    {
      "cell_type": "code",
      "source": [
        "perro.adivina()"
      ],
      "metadata": {
        "colab": {
          "base_uri": "https://localhost:8080/"
        },
        "id": "umKMgGIykTAo",
        "outputId": "c5ce314f-5349-4eb9-b443-b30930d445e9"
      },
      "execution_count": 46,
      "outputs": [
        {
          "output_type": "stream",
          "name": "stdout",
          "text": [
            "labrador\n"
          ]
        }
      ]
    }
  ]
}